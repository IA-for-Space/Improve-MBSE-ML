{
 "cells": [
  {
   "cell_type": "code",
   "execution_count": null,
   "metadata": {
    "colab": {
     "base_uri": "https://localhost:8080/",
     "height": 1000
    },
    "id": "rICw0MTsMtam",
    "outputId": "4acf6428-30d0-4699-8dbe-e002169aa480"
   },
   "outputs": [],
   "source": [
    "#!pip install polaris-ml"
   ]
  },
  {
   "cell_type": "code",
   "execution_count": null,
   "metadata": {
    "colab": {
     "base_uri": "https://localhost:8080/"
    },
    "id": "RlwcETrdgSBZ",
    "outputId": "80d937e4-3ea8-4554-9ccd-bb2dafc31ca8"
   },
   "outputs": [],
   "source": [
    "# OBTENEMOS UNA LISTA CON TODOS LAS RUTAS DE FICHEROS TXT DEL DATASET DE LIGHTSAIL2\n",
    "\n",
    "import os\n",
    "import pandas as pd\n",
    "import numpy as np\n",
    "\n",
    "lista_archivos_lightsail = [\"../lightsail2/\" + x for x in os.listdir(\"../lightsail2/\") if x[-3:] == \"txt\"]\n"
   ]
  },
  {
   "cell_type": "code",
   "execution_count": 2,
   "metadata": {
    "id": "OSL_Yph0WzBZ"
   },
   "outputs": [],
   "source": [
    "#LECTURA DE LOS DATASETS DE LIGHTSAIL2\n",
    "\n",
    "def read_from_txt_lightsail(lista_archivos):  \n",
    "  dataframeTotal = pd.DataFrame()\n",
    "  dataframeN = pd.DataFrame(columns=[\"time\"])\n",
    "  for nombre_archivo in lista_archivos:\n",
    "    archivo = open(nombre_archivo, \"r\")\n",
    "    kvp_form = False\n",
    "    for linea in archivo:\n",
    "      if \"KVP form:\" in linea:\n",
    "        kvp_form = True\n",
    "        dictN = {}\n",
    "      if kvp_form is True and \"=\" in linea:\n",
    "        etiqueta = linea.split(\"=\")[0].strip()\n",
    "        valor = float(linea.split(\"=\")[1].split(\",\")[0].strip())\n",
    "        dictN[etiqueta] = valor\n",
    "    df_toappend = pd.DataFrame([dictN])\n",
    "    dataframeN = dataframeN.append(df_toappend, ignore_index=True)\n",
    "    dataframeN.sort_values(\"time\")\n",
    "  return dataframeN\n",
    "\n",
    "\n"
   ]
  },
  {
   "cell_type": "code",
   "execution_count": null,
   "metadata": {
    "colab": {
     "base_uri": "https://localhost:8080/",
     "height": 835
    },
    "id": "sbj0GWnPysEc",
    "outputId": "d85f37dd-bb2e-4ea3-86e1-7ac722e64309"
   },
   "outputs": [],
   "source": [
    "#COMPROBAR RESULTADOS ANTES DE GUARDAR EN CSV\n",
    "df = read_from_txt_lightsail(lista_archivos_lightsail)\n",
    "display(df.head(27))"
   ]
  },
  {
   "cell_type": "code",
   "execution_count": 65,
   "metadata": {
    "id": "wzPPwEj0jM29"
   },
   "outputs": [],
   "source": [
    "#GUARDAR CSV DEL DATASET DE LIGHTSAIL2\n",
    "df_csv = df.to_csv('lightsail_dataset.csv', sep=',', index=False)\n"
   ]
  }
 ],
 "metadata": {
  "colab": {
   "collapsed_sections": [],
   "name": "TFM.ipynb",
   "provenance": []
  },
  "kernelspec": {
   "display_name": "Python 3",
   "language": "python",
   "name": "python3"
  },
  "language_info": {
   "codemirror_mode": {
    "name": "ipython",
    "version": 3
   },
   "file_extension": ".py",
   "mimetype": "text/x-python",
   "name": "python",
   "nbconvert_exporter": "python",
   "pygments_lexer": "ipython3",
   "version": "3.8.5"
  }
 },
 "nbformat": 4,
 "nbformat_minor": 4
}
