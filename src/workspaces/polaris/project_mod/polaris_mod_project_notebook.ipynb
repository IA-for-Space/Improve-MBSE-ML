{
 "cells": [
  {
   "cell_type": "code",
   "execution_count": null,
   "metadata": {
    "colab": {
     "base_uri": "https://localhost:8080/",
     "height": 1000
    },
    "id": "rICw0MTsMtam",
    "outputId": "4acf6428-30d0-4699-8dbe-e002169aa480"
   },
   "outputs": [],
   "source": [
    "#!pip install polaris-ml\n",
    "#!pip install fets\n",
    "#!pip install mlflow"
   ]
  },
  {
   "cell_type": "code",
   "execution_count": 1,
   "metadata": {
    "colab": {
     "base_uri": "https://localhost:8080/"
    },
    "id": "RlwcETrdgSBZ",
    "outputId": "80d937e4-3ea8-4554-9ccd-bb2dafc31ca8"
   },
   "outputs": [
    {
     "data": {
      "text/html": [
       "<style>\n",
       "</style>\n",
       "<div class=\"enlighten\">\n",
       "  <div class=\"enlighten-bar\">\n",
       "    <pre>Columns 100%|██████████████████████████████████████████████████| 59/59 [02:38&lt;00:00, 0.37 columns/s]</pre>\n",
       "  </div>\n",
       "</div>\n"
      ],
      "text/plain": [
       "<IPython.core.display.HTML object>"
      ]
     },
     "metadata": {},
     "output_type": "display_data"
    },
    {
     "name": "stderr",
     "output_type": "stream",
     "text": [
      "2022/03/10 21:21:00 WARNING mlflow.tracking.context.git_context: Failed to import Git (the Git executable is probably not on your PATH), so Git SHA is not available. Error: Failed to initialize: Bad git executable.\n",
      "The git executable must be specified in one of the following ways:\n",
      "    - be included in your $PATH\n",
      "    - be set via $GIT_PYTHON_GIT_EXECUTABLE\n",
      "    - explicitly set via git.refresh()\n",
      "\n",
      "All git commands will error until this is rectified.\n",
      "\n",
      "This initial warning can be silenced or aggravated in the future by setting the\n",
      "$GIT_PYTHON_REFRESH environment variable. Use one of the following values:\n",
      "    - quiet|q|silence|s|none|n|0: for no warning or exception\n",
      "    - warn|w|warning|1: for a printed warning\n",
      "    - error|e|raise|r|2: for a raised exception\n",
      "\n",
      "Example:\n",
      "    export GIT_PYTHON_REFRESH=quiet\n",
      "\n"
     ]
    },
    {
     "name": "stdout",
     "output_type": "stream",
     "text": [
      "XGBoosting graph generated\n"
     ]
    }
   ],
   "source": [
    "# Vamos a comparar dos métodos de correlación para comprobar cuál es más apropiaado para el dataset de mars express\n",
    "from polaris.learn.analysis import PolarisGraphWorkbench\n",
    "a = PolarisGraphWorkbench(\"../../../datasets/preprocess_mars_express/MarsExpressPower/marsexpress_dataset.csv\", index_column=\"ut_ms\", method=\"XGBoosting\", dropna=True, route_to_graphs=\"C:/Users/manni/Desktop/VIU/TFM/repo/Improve-MBSE-ML/src/polaris_workspace/polaris_mod_project/polaris_mars_express_graphs\")"
   ]
  },
  {
   "cell_type": "code",
   "execution_count": null,
   "metadata": {},
   "outputs": [],
   "source": [
    "a.visualize_XGBoosting_graph()"
   ]
  },
  {
   "cell_type": "markdown",
   "metadata": {},
   "source": [
    "![](xgb_graph.png)"
   ]
  },
  {
   "cell_type": "code",
   "execution_count": 2,
   "metadata": {},
   "outputs": [
    {
     "data": {
      "text/html": [
       "<div>\n",
       "<style scoped>\n",
       "    .dataframe tbody tr th:only-of-type {\n",
       "        vertical-align: middle;\n",
       "    }\n",
       "\n",
       "    .dataframe tbody tr th {\n",
       "        vertical-align: top;\n",
       "    }\n",
       "\n",
       "    .dataframe thead th {\n",
       "        text-align: right;\n",
       "    }\n",
       "</style>\n",
       "<table border=\"1\" class=\"dataframe\">\n",
       "  <thead>\n",
       "    <tr style=\"text-align: right;\">\n",
       "      <th></th>\n",
       "      <th>source</th>\n",
       "      <th>target</th>\n",
       "      <th>value</th>\n",
       "    </tr>\n",
       "  </thead>\n",
       "  <tbody>\n",
       "    <tr>\n",
       "      <th>0</th>\n",
       "      <td>NPWD2372</td>\n",
       "      <td>NPWD2491</td>\n",
       "      <td>0.212917</td>\n",
       "    </tr>\n",
       "    <tr>\n",
       "      <th>1</th>\n",
       "      <td>NPWD2372</td>\n",
       "      <td>NPWD2501</td>\n",
       "      <td>0.105242</td>\n",
       "    </tr>\n",
       "    <tr>\n",
       "      <th>2</th>\n",
       "      <td>NPWD2401</td>\n",
       "      <td>NPWD2471</td>\n",
       "      <td>0.207666</td>\n",
       "    </tr>\n",
       "    <tr>\n",
       "      <th>3</th>\n",
       "      <td>NPWD2401</td>\n",
       "      <td>NPWD2482</td>\n",
       "      <td>0.454084</td>\n",
       "    </tr>\n",
       "    <tr>\n",
       "      <th>4</th>\n",
       "      <td>NPWD2401</td>\n",
       "      <td>NPWD2771</td>\n",
       "      <td>0.108105</td>\n",
       "    </tr>\n",
       "    <tr>\n",
       "      <th>...</th>\n",
       "      <td>...</td>\n",
       "      <td>...</td>\n",
       "      <td>...</td>\n",
       "    </tr>\n",
       "    <tr>\n",
       "      <th>103</th>\n",
       "      <td>TTT</td>\n",
       "      <td>MMM</td>\n",
       "      <td>0.160330</td>\n",
       "    </tr>\n",
       "    <tr>\n",
       "      <th>104</th>\n",
       "      <td>XXX</td>\n",
       "      <td>PSF</td>\n",
       "      <td>0.107308</td>\n",
       "    </tr>\n",
       "    <tr>\n",
       "      <th>105</th>\n",
       "      <td>XXX</td>\n",
       "      <td>SXX</td>\n",
       "      <td>0.123962</td>\n",
       "    </tr>\n",
       "    <tr>\n",
       "      <th>106</th>\n",
       "      <td>ACF</td>\n",
       "      <td>NPWD2491</td>\n",
       "      <td>0.234469</td>\n",
       "    </tr>\n",
       "    <tr>\n",
       "      <th>107</th>\n",
       "      <td>ACF</td>\n",
       "      <td>TMB</td>\n",
       "      <td>0.168817</td>\n",
       "    </tr>\n",
       "  </tbody>\n",
       "</table>\n",
       "<p>108 rows × 3 columns</p>\n",
       "</div>"
      ],
      "text/plain": [
       "       source    target     value\n",
       "0    NPWD2372  NPWD2491  0.212917\n",
       "1    NPWD2372  NPWD2501  0.105242\n",
       "2    NPWD2401  NPWD2471  0.207666\n",
       "3    NPWD2401  NPWD2482  0.454084\n",
       "4    NPWD2401  NPWD2771  0.108105\n",
       "..        ...       ...       ...\n",
       "103       TTT       MMM  0.160330\n",
       "104       XXX       PSF  0.107308\n",
       "105       XXX       SXX  0.123962\n",
       "106       ACF  NPWD2491  0.234469\n",
       "107       ACF       TMB  0.168817\n",
       "\n",
       "[108 rows x 3 columns]"
      ]
     },
     "metadata": {},
     "output_type": "display_data"
    }
   ],
   "source": [
    "a.XGBoosting_graph_to_dataframe()"
   ]
  },
  {
   "cell_type": "code",
   "execution_count": 3,
   "metadata": {},
   "outputs": [
    {
     "data": {
      "text/html": [
       "<style>\n",
       "</style>\n",
       "<div class=\"enlighten\">\n",
       "  <div class=\"enlighten-bar\">\n",
       "    <pre>Columns 100%|██████████████████████████████████████████████████| 59/59 [28:25&lt;00:00, 0.03 columns/s]</pre>\n",
       "  </div>\n",
       "</div>\n"
      ],
      "text/plain": [
       "<IPython.core.display.HTML object>"
      ]
     },
     "metadata": {},
     "output_type": "display_data"
    },
    {
     "name": "stdout",
     "output_type": "stream",
     "text": [
      "GradientBoosting graph generated\n"
     ]
    }
   ],
   "source": [
    "a.correlate_GradientBoosting()"
   ]
  },
  {
   "cell_type": "code",
   "execution_count": null,
   "metadata": {},
   "outputs": [],
   "source": [
    "a.visualize_GradientBoosting_graph()"
   ]
  },
  {
   "cell_type": "markdown",
   "metadata": {},
   "source": [
    "![](gb_graph.png)"
   ]
  },
  {
   "cell_type": "code",
   "execution_count": 4,
   "metadata": {},
   "outputs": [
    {
     "data": {
      "text/html": [
       "<div>\n",
       "<style scoped>\n",
       "    .dataframe tbody tr th:only-of-type {\n",
       "        vertical-align: middle;\n",
       "    }\n",
       "\n",
       "    .dataframe tbody tr th {\n",
       "        vertical-align: top;\n",
       "    }\n",
       "\n",
       "    .dataframe thead th {\n",
       "        text-align: right;\n",
       "    }\n",
       "</style>\n",
       "<table border=\"1\" class=\"dataframe\">\n",
       "  <thead>\n",
       "    <tr style=\"text-align: right;\">\n",
       "      <th></th>\n",
       "      <th>source</th>\n",
       "      <th>target</th>\n",
       "      <th>value</th>\n",
       "    </tr>\n",
       "  </thead>\n",
       "  <tbody>\n",
       "    <tr>\n",
       "      <th>0</th>\n",
       "      <td>NPWD2372</td>\n",
       "      <td>NPWD2491</td>\n",
       "      <td>0.562133</td>\n",
       "    </tr>\n",
       "    <tr>\n",
       "      <th>1</th>\n",
       "      <td>NPWD2372</td>\n",
       "      <td>NPWD2742</td>\n",
       "      <td>0.121734</td>\n",
       "    </tr>\n",
       "    <tr>\n",
       "      <th>2</th>\n",
       "      <td>NPWD2372</td>\n",
       "      <td>NPWD2791</td>\n",
       "      <td>0.607579</td>\n",
       "    </tr>\n",
       "    <tr>\n",
       "      <th>3</th>\n",
       "      <td>NPWD2372</td>\n",
       "      <td>MMM</td>\n",
       "      <td>0.105659</td>\n",
       "    </tr>\n",
       "    <tr>\n",
       "      <th>4</th>\n",
       "      <td>NPWD2372</td>\n",
       "      <td>PSF</td>\n",
       "      <td>0.357720</td>\n",
       "    </tr>\n",
       "    <tr>\n",
       "      <th>...</th>\n",
       "      <td>...</td>\n",
       "      <td>...</td>\n",
       "      <td>...</td>\n",
       "    </tr>\n",
       "    <tr>\n",
       "      <th>129</th>\n",
       "      <td>XXX</td>\n",
       "      <td>SEQ</td>\n",
       "      <td>0.480974</td>\n",
       "    </tr>\n",
       "    <tr>\n",
       "      <th>130</th>\n",
       "      <td>XXX</td>\n",
       "      <td>SXX</td>\n",
       "      <td>0.342594</td>\n",
       "    </tr>\n",
       "    <tr>\n",
       "      <th>131</th>\n",
       "      <td>ACF</td>\n",
       "      <td>PWF</td>\n",
       "      <td>0.279511</td>\n",
       "    </tr>\n",
       "    <tr>\n",
       "      <th>132</th>\n",
       "      <td>ACF</td>\n",
       "      <td>TMB</td>\n",
       "      <td>0.191745</td>\n",
       "    </tr>\n",
       "    <tr>\n",
       "      <th>133</th>\n",
       "      <td>ACF</td>\n",
       "      <td>DMC</td>\n",
       "      <td>0.189172</td>\n",
       "    </tr>\n",
       "  </tbody>\n",
       "</table>\n",
       "<p>134 rows × 3 columns</p>\n",
       "</div>"
      ],
      "text/plain": [
       "       source    target     value\n",
       "0    NPWD2372  NPWD2491  0.562133\n",
       "1    NPWD2372  NPWD2742  0.121734\n",
       "2    NPWD2372  NPWD2791  0.607579\n",
       "3    NPWD2372       MMM  0.105659\n",
       "4    NPWD2372       PSF  0.357720\n",
       "..        ...       ...       ...\n",
       "129       XXX       SEQ  0.480974\n",
       "130       XXX       SXX  0.342594\n",
       "131       ACF       PWF  0.279511\n",
       "132       ACF       TMB  0.191745\n",
       "133       ACF       DMC  0.189172\n",
       "\n",
       "[134 rows x 3 columns]"
      ]
     },
     "metadata": {},
     "output_type": "display_data"
    }
   ],
   "source": [
    "a.GradientBoosting_graph_to_dataframe()"
   ]
  },
  {
   "cell_type": "code",
   "execution_count": 5,
   "metadata": {},
   "outputs": [
    {
     "data": {
      "text/html": [
       "<div>\n",
       "<style scoped>\n",
       "    .dataframe tbody tr th:only-of-type {\n",
       "        vertical-align: middle;\n",
       "    }\n",
       "\n",
       "    .dataframe tbody tr th {\n",
       "        vertical-align: top;\n",
       "    }\n",
       "\n",
       "    .dataframe thead th {\n",
       "        text-align: right;\n",
       "    }\n",
       "</style>\n",
       "<table border=\"1\" class=\"dataframe\">\n",
       "  <thead>\n",
       "    <tr style=\"text-align: right;\">\n",
       "      <th></th>\n",
       "      <th>Method</th>\n",
       "      <th>Nodes Num</th>\n",
       "      <th>Edges Num</th>\n",
       "      <th>Free Nodes Num</th>\n",
       "      <th>Average Weight</th>\n",
       "    </tr>\n",
       "  </thead>\n",
       "  <tbody>\n",
       "    <tr>\n",
       "      <th>0</th>\n",
       "      <td>XGBoosting</td>\n",
       "      <td>59</td>\n",
       "      <td>108</td>\n",
       "      <td>4</td>\n",
       "      <td>0.239997</td>\n",
       "    </tr>\n",
       "    <tr>\n",
       "      <th>1</th>\n",
       "      <td>GradientBoosting</td>\n",
       "      <td>59</td>\n",
       "      <td>134</td>\n",
       "      <td>1</td>\n",
       "      <td>0.294698</td>\n",
       "    </tr>\n",
       "  </tbody>\n",
       "</table>\n",
       "</div>"
      ],
      "text/plain": [
       "             Method  Nodes Num  Edges Num  Free Nodes Num  Average Weight\n",
       "0        XGBoosting         59        108               4        0.239997\n",
       "1  GradientBoosting         59        134               1        0.294698"
      ]
     },
     "metadata": {},
     "output_type": "display_data"
    }
   ],
   "source": [
    "a.compare_methods()"
   ]
  },
  {
   "cell_type": "code",
   "execution_count": 7,
   "metadata": {},
   "outputs": [
    {
     "data": {
      "text/html": [
       "<div>\n",
       "<style scoped>\n",
       "    .dataframe tbody tr th:only-of-type {\n",
       "        vertical-align: middle;\n",
       "    }\n",
       "\n",
       "    .dataframe tbody tr th {\n",
       "        vertical-align: top;\n",
       "    }\n",
       "\n",
       "    .dataframe thead th {\n",
       "        text-align: right;\n",
       "    }\n",
       "</style>\n",
       "<table border=\"1\" class=\"dataframe\">\n",
       "  <thead>\n",
       "    <tr style=\"text-align: right;\">\n",
       "      <th></th>\n",
       "      <th>source</th>\n",
       "      <th>target</th>\n",
       "      <th>value</th>\n",
       "    </tr>\n",
       "  </thead>\n",
       "  <tbody>\n",
       "    <tr>\n",
       "      <th>0</th>\n",
       "      <td>NPWD2372</td>\n",
       "      <td>NPWD2491</td>\n",
       "      <td>0.562133</td>\n",
       "    </tr>\n",
       "    <tr>\n",
       "      <th>1</th>\n",
       "      <td>NPWD2372</td>\n",
       "      <td>NPWD2742</td>\n",
       "      <td>0.121734</td>\n",
       "    </tr>\n",
       "    <tr>\n",
       "      <th>2</th>\n",
       "      <td>NPWD2372</td>\n",
       "      <td>NPWD2791</td>\n",
       "      <td>0.607579</td>\n",
       "    </tr>\n",
       "    <tr>\n",
       "      <th>3</th>\n",
       "      <td>NPWD2372</td>\n",
       "      <td>MMM</td>\n",
       "      <td>0.105659</td>\n",
       "    </tr>\n",
       "    <tr>\n",
       "      <th>4</th>\n",
       "      <td>NPWD2372</td>\n",
       "      <td>PSF</td>\n",
       "      <td>0.357720</td>\n",
       "    </tr>\n",
       "    <tr>\n",
       "      <th>5</th>\n",
       "      <td>NPWD2491</td>\n",
       "      <td>NPWD2372</td>\n",
       "      <td>0.593054</td>\n",
       "    </tr>\n",
       "    <tr>\n",
       "      <th>6</th>\n",
       "      <td>PSF</td>\n",
       "      <td>NPWD2372</td>\n",
       "      <td>0.150877</td>\n",
       "    </tr>\n",
       "  </tbody>\n",
       "</table>\n",
       "</div>"
      ],
      "text/plain": [
       "     source    target     value\n",
       "0  NPWD2372  NPWD2491  0.562133\n",
       "1  NPWD2372  NPWD2742  0.121734\n",
       "2  NPWD2372  NPWD2791  0.607579\n",
       "3  NPWD2372       MMM  0.105659\n",
       "4  NPWD2372       PSF  0.357720\n",
       "5  NPWD2491  NPWD2372  0.593054\n",
       "6       PSF  NPWD2372  0.150877"
      ]
     },
     "metadata": {},
     "output_type": "display_data"
    }
   ],
   "source": [
    "# Como podemos ver nos interesa quedarnos con GradientBoosting\n",
    "# Vamos a estrechar el cerco alrededor del nodo NPWD2372, eliminando todas las aristas que no tengan nada que ver con él.\n",
    "\n",
    "df = a.df_GradientBoosting\n",
    "\n",
    "edges_to_remove = [(row[\"source\"], row[\"target\"]) for i, row in df.iterrows() if row[\"source\"] != \"NPWD2372\" and row[\"target\"] != \"NPWD2372\"]\n",
    "\n",
    "a.remove_edges_from_GradientBoosting_graph(edges=edges_to_remove)\n",
    "\n",
    "a.GradientBoosting_graph_to_dataframe()"
   ]
  },
  {
   "cell_type": "code",
   "execution_count": null,
   "metadata": {},
   "outputs": [],
   "source": [
    "\n",
    "a.visualize_GradientBoosting_graph()"
   ]
  },
  {
   "cell_type": "markdown",
   "metadata": {},
   "source": [
    "![](removed_edges_graph.png)"
   ]
  }
 ],
 "metadata": {
  "colab": {
   "collapsed_sections": [],
   "name": "TFM.ipynb",
   "provenance": []
  },
  "kernelspec": {
   "display_name": "Python 3",
   "language": "python",
   "name": "python3"
  },
  "language_info": {
   "codemirror_mode": {
    "name": "ipython",
    "version": 3
   },
   "file_extension": ".py",
   "mimetype": "text/x-python",
   "name": "python",
   "nbconvert_exporter": "python",
   "pygments_lexer": "ipython3",
   "version": "3.8.5"
  },
  "metadata": {
   "interpreter": {
    "hash": "de072921dc87486613898b1ef56959cc98c50a630fb49de1898fb32d92a683cf"
   }
  }
 },
 "nbformat": 4,
 "nbformat_minor": 4
}
