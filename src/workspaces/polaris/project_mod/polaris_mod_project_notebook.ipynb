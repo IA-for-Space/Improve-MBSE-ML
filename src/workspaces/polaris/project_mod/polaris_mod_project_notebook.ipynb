{
 "cells": [
  {
   "cell_type": "code",
   "execution_count": 1,
   "metadata": {
    "colab": {
     "base_uri": "https://localhost:8080/",
     "height": 1000
    },
    "id": "rICw0MTsMtam",
    "outputId": "4acf6428-30d0-4699-8dbe-e002169aa480"
   },
   "outputs": [],
   "source": [
    "#!pip install polaris-ml\n",
    "#!pip install fets\n",
    "#!pip install mlflow"
   ]
  },
  {
   "cell_type": "code",
   "execution_count": 1,
   "metadata": {
    "colab": {
     "base_uri": "https://localhost:8080/"
    },
    "id": "RlwcETrdgSBZ",
    "outputId": "80d937e4-3ea8-4554-9ccd-bb2dafc31ca8"
   },
   "outputs": [
    {
     "data": {
      "text/html": [
       "<style>\n",
       "</style>\n",
       "<div class=\"enlighten\">\n",
       "  <div class=\"enlighten-bar\">\n",
       "    <pre>Columns 100%|██████████████████████████████████████████████████| 70/70 [03:40&lt;00:00, 0.32 columns/s]</pre>\n",
       "  </div>\n",
       "</div>\n"
      ],
      "text/plain": [
       "<IPython.core.display.HTML object>"
      ]
     },
     "metadata": {},
     "output_type": "display_data"
    },
    {
     "name": "stderr",
     "output_type": "stream",
     "text": [
      "2022/03/29 22:12:13 WARNING mlflow.tracking.context.git_context: Failed to import Git (the Git executable is probably not on your PATH), so Git SHA is not available. Error: Failed to initialize: Bad git executable.\n",
      "The git executable must be specified in one of the following ways:\n",
      "    - be included in your $PATH\n",
      "    - be set via $GIT_PYTHON_GIT_EXECUTABLE\n",
      "    - explicitly set via git.refresh()\n",
      "\n",
      "All git commands will error until this is rectified.\n",
      "\n",
      "This initial warning can be silenced or aggravated in the future by setting the\n",
      "$GIT_PYTHON_REFRESH environment variable. Use one of the following values:\n",
      "    - quiet|q|silence|s|none|n|0: for no warning or exception\n",
      "    - warn|w|warning|1: for a printed warning\n",
      "    - error|e|raise|r|2: for a raised exception\n",
      "\n",
      "Example:\n",
      "    export GIT_PYTHON_REFRESH=quiet\n",
      "\n"
     ]
    },
    {
     "name": "stdout",
     "output_type": "stream",
     "text": [
      "XGBoosting graph generated\n"
     ]
    }
   ],
   "source": [
    "# Vamos a comparar dos métodos de correlación para comprobar cuál es más apropiaado para el dataset de mars express\n",
    "from polaris.learn.analysis import PolarisGraphWorkbench\n",
    "a = PolarisGraphWorkbench(\"../../../datasets/preprocess_mars_express/MarsExpressPower/marsexpress_dataset.csv\", index_column=\"ut_ms\", method=\"XGBoosting\", dropna=True, route_to_graphs=\"C:/Users/manni/Desktop/VIU/TFM/repo/Improve-MBSE-ML/src/workspaces/polaris/project_mod/polaris_mars_express_graphs\")"
   ]
  },
  {
   "cell_type": "code",
   "execution_count": 2,
   "metadata": {},
   "outputs": [
    {
     "name": "stdout",
     "output_type": "stream",
     "text": [
      "Run 'polaris viz C:/Users/manni/Desktop/VIU/TFM/repo/Improve-MBSE-ML/src/workspaces/polaris/project_mod/polaris_mars_express_graphs/polaris_graph_XGBoosting.json' in your Python command prompt.\n",
      "Visit http://localhost:8080 in your browser to see the graph.\n"
     ]
    }
   ],
   "source": [
    "a.visualize_XGBoosting_graph()"
   ]
  },
  {
   "cell_type": "markdown",
   "metadata": {},
   "source": [
    "![](xgb_graph.png)"
   ]
  },
  {
   "cell_type": "code",
   "execution_count": 3,
   "metadata": {},
   "outputs": [
    {
     "data": {
      "text/html": [
       "<div>\n",
       "<style scoped>\n",
       "    .dataframe tbody tr th:only-of-type {\n",
       "        vertical-align: middle;\n",
       "    }\n",
       "\n",
       "    .dataframe tbody tr th {\n",
       "        vertical-align: top;\n",
       "    }\n",
       "\n",
       "    .dataframe thead th {\n",
       "        text-align: right;\n",
       "    }\n",
       "</style>\n",
       "<table border=\"1\" class=\"dataframe\">\n",
       "  <thead>\n",
       "    <tr style=\"text-align: right;\">\n",
       "      <th></th>\n",
       "      <th>source</th>\n",
       "      <th>target</th>\n",
       "      <th>value</th>\n",
       "    </tr>\n",
       "  </thead>\n",
       "  <tbody>\n",
       "    <tr>\n",
       "      <th>0</th>\n",
       "      <td>NPWD2372</td>\n",
       "      <td>NPWD2491</td>\n",
       "      <td>0.185725</td>\n",
       "    </tr>\n",
       "    <tr>\n",
       "      <th>1</th>\n",
       "      <td>NPWD2372</td>\n",
       "      <td>NPWD2501</td>\n",
       "      <td>0.458547</td>\n",
       "    </tr>\n",
       "    <tr>\n",
       "      <th>2</th>\n",
       "      <td>NPWD2401</td>\n",
       "      <td>NPWD2471</td>\n",
       "      <td>0.166233</td>\n",
       "    </tr>\n",
       "    <tr>\n",
       "      <th>3</th>\n",
       "      <td>NPWD2401</td>\n",
       "      <td>NPWD2482</td>\n",
       "      <td>0.600123</td>\n",
       "    </tr>\n",
       "    <tr>\n",
       "      <th>4</th>\n",
       "      <td>NPWD2401</td>\n",
       "      <td>NPWD2792</td>\n",
       "      <td>0.109577</td>\n",
       "    </tr>\n",
       "    <tr>\n",
       "      <th>...</th>\n",
       "      <td>...</td>\n",
       "      <td>...</td>\n",
       "      <td>...</td>\n",
       "    </tr>\n",
       "    <tr>\n",
       "      <th>141</th>\n",
       "      <td>SLEW</td>\n",
       "      <td>MAINTENANCE</td>\n",
       "      <td>0.341048</td>\n",
       "    </tr>\n",
       "    <tr>\n",
       "      <th>142</th>\n",
       "      <td>SLEW</td>\n",
       "      <td>NADIR</td>\n",
       "      <td>0.132434</td>\n",
       "    </tr>\n",
       "    <tr>\n",
       "      <th>143</th>\n",
       "      <td>SLEW</td>\n",
       "      <td>RADIO_SCIENCE</td>\n",
       "      <td>0.207527</td>\n",
       "    </tr>\n",
       "    <tr>\n",
       "      <th>144</th>\n",
       "      <td>WARMUP</td>\n",
       "      <td>D1PVMC</td>\n",
       "      <td>0.107172</td>\n",
       "    </tr>\n",
       "    <tr>\n",
       "      <th>145</th>\n",
       "      <td>WARMUP</td>\n",
       "      <td>SLEW</td>\n",
       "      <td>0.107836</td>\n",
       "    </tr>\n",
       "  </tbody>\n",
       "</table>\n",
       "<p>146 rows × 3 columns</p>\n",
       "</div>"
      ],
      "text/plain": [
       "       source         target     value\n",
       "0    NPWD2372       NPWD2491  0.185725\n",
       "1    NPWD2372       NPWD2501  0.458547\n",
       "2    NPWD2401       NPWD2471  0.166233\n",
       "3    NPWD2401       NPWD2482  0.600123\n",
       "4    NPWD2401       NPWD2792  0.109577\n",
       "..        ...            ...       ...\n",
       "141      SLEW    MAINTENANCE  0.341048\n",
       "142      SLEW          NADIR  0.132434\n",
       "143      SLEW  RADIO_SCIENCE  0.207527\n",
       "144    WARMUP         D1PVMC  0.107172\n",
       "145    WARMUP           SLEW  0.107836\n",
       "\n",
       "[146 rows x 3 columns]"
      ]
     },
     "metadata": {},
     "output_type": "display_data"
    }
   ],
   "source": [
    "a.XGBoosting_graph_to_dataframe()"
   ]
  },
  {
   "cell_type": "code",
   "execution_count": 4,
   "metadata": {},
   "outputs": [
    {
     "data": {
      "text/html": [
       "<style>\n",
       "</style>\n",
       "<div class=\"enlighten\">\n",
       "  <div class=\"enlighten-bar\">\n",
       "    <pre>Columns 100%|██████████████████████████████████████████████████| 70/70 [42:40&lt;00:00, 0.03 columns/s]</pre>\n",
       "  </div>\n",
       "</div>\n"
      ],
      "text/plain": [
       "<IPython.core.display.HTML object>"
      ]
     },
     "metadata": {},
     "output_type": "display_data"
    },
    {
     "name": "stdout",
     "output_type": "stream",
     "text": [
      "GradientBoosting graph generated\n"
     ]
    }
   ],
   "source": [
    "a.correlate_GradientBoosting()"
   ]
  },
  {
   "cell_type": "code",
   "execution_count": 5,
   "metadata": {},
   "outputs": [
    {
     "name": "stdout",
     "output_type": "stream",
     "text": [
      "Run 'polaris viz C:/Users/manni/Desktop/VIU/TFM/repo/Improve-MBSE-ML/src/workspaces/polaris/project_mod/polaris_mars_express_graphs/polaris_graph_GradientBoosting.json' in your Python command prompt.\n",
      "Visit http://localhost:8080 in your browser to see the graph.\n"
     ]
    }
   ],
   "source": [
    "a.visualize_GradientBoosting_graph()"
   ]
  },
  {
   "cell_type": "markdown",
   "metadata": {},
   "source": [
    "![](gb_graph.png)"
   ]
  },
  {
   "cell_type": "code",
   "execution_count": 6,
   "metadata": {},
   "outputs": [
    {
     "data": {
      "text/html": [
       "<div>\n",
       "<style scoped>\n",
       "    .dataframe tbody tr th:only-of-type {\n",
       "        vertical-align: middle;\n",
       "    }\n",
       "\n",
       "    .dataframe tbody tr th {\n",
       "        vertical-align: top;\n",
       "    }\n",
       "\n",
       "    .dataframe thead th {\n",
       "        text-align: right;\n",
       "    }\n",
       "</style>\n",
       "<table border=\"1\" class=\"dataframe\">\n",
       "  <thead>\n",
       "    <tr style=\"text-align: right;\">\n",
       "      <th></th>\n",
       "      <th>source</th>\n",
       "      <th>target</th>\n",
       "      <th>value</th>\n",
       "    </tr>\n",
       "  </thead>\n",
       "  <tbody>\n",
       "    <tr>\n",
       "      <th>0</th>\n",
       "      <td>NPWD2372</td>\n",
       "      <td>NPWD2491</td>\n",
       "      <td>0.555337</td>\n",
       "    </tr>\n",
       "    <tr>\n",
       "      <th>1</th>\n",
       "      <td>NPWD2372</td>\n",
       "      <td>NPWD2742</td>\n",
       "      <td>0.198113</td>\n",
       "    </tr>\n",
       "    <tr>\n",
       "      <th>2</th>\n",
       "      <td>NPWD2372</td>\n",
       "      <td>NPWD2791</td>\n",
       "      <td>0.615005</td>\n",
       "    </tr>\n",
       "    <tr>\n",
       "      <th>3</th>\n",
       "      <td>NPWD2372</td>\n",
       "      <td>PSF</td>\n",
       "      <td>0.364652</td>\n",
       "    </tr>\n",
       "    <tr>\n",
       "      <th>4</th>\n",
       "      <td>NPWD2401</td>\n",
       "      <td>NPWD2471</td>\n",
       "      <td>0.270832</td>\n",
       "    </tr>\n",
       "    <tr>\n",
       "      <th>...</th>\n",
       "      <td>...</td>\n",
       "      <td>...</td>\n",
       "      <td>...</td>\n",
       "    </tr>\n",
       "    <tr>\n",
       "      <th>167</th>\n",
       "      <td>SLEW</td>\n",
       "      <td>D4PNPO</td>\n",
       "      <td>0.124773</td>\n",
       "    </tr>\n",
       "    <tr>\n",
       "      <th>168</th>\n",
       "      <td>SLEW</td>\n",
       "      <td>EARTH</td>\n",
       "      <td>0.405851</td>\n",
       "    </tr>\n",
       "    <tr>\n",
       "      <th>169</th>\n",
       "      <td>SLEW</td>\n",
       "      <td>INERTIAL</td>\n",
       "      <td>0.133677</td>\n",
       "    </tr>\n",
       "    <tr>\n",
       "      <th>170</th>\n",
       "      <td>SLEW</td>\n",
       "      <td>MAINTENANCE</td>\n",
       "      <td>0.459377</td>\n",
       "    </tr>\n",
       "    <tr>\n",
       "      <th>171</th>\n",
       "      <td>SLEW</td>\n",
       "      <td>WARMUP</td>\n",
       "      <td>0.123577</td>\n",
       "    </tr>\n",
       "  </tbody>\n",
       "</table>\n",
       "<p>172 rows × 3 columns</p>\n",
       "</div>"
      ],
      "text/plain": [
       "       source       target     value\n",
       "0    NPWD2372     NPWD2491  0.555337\n",
       "1    NPWD2372     NPWD2742  0.198113\n",
       "2    NPWD2372     NPWD2791  0.615005\n",
       "3    NPWD2372          PSF  0.364652\n",
       "4    NPWD2401     NPWD2471  0.270832\n",
       "..        ...          ...       ...\n",
       "167      SLEW       D4PNPO  0.124773\n",
       "168      SLEW        EARTH  0.405851\n",
       "169      SLEW     INERTIAL  0.133677\n",
       "170      SLEW  MAINTENANCE  0.459377\n",
       "171      SLEW       WARMUP  0.123577\n",
       "\n",
       "[172 rows x 3 columns]"
      ]
     },
     "metadata": {},
     "output_type": "display_data"
    }
   ],
   "source": [
    "a.GradientBoosting_graph_to_dataframe()"
   ]
  },
  {
   "cell_type": "code",
   "execution_count": 7,
   "metadata": {},
   "outputs": [
    {
     "data": {
      "text/html": [
       "<div>\n",
       "<style scoped>\n",
       "    .dataframe tbody tr th:only-of-type {\n",
       "        vertical-align: middle;\n",
       "    }\n",
       "\n",
       "    .dataframe tbody tr th {\n",
       "        vertical-align: top;\n",
       "    }\n",
       "\n",
       "    .dataframe thead th {\n",
       "        text-align: right;\n",
       "    }\n",
       "</style>\n",
       "<table border=\"1\" class=\"dataframe\">\n",
       "  <thead>\n",
       "    <tr style=\"text-align: right;\">\n",
       "      <th></th>\n",
       "      <th>Method</th>\n",
       "      <th>Nodes Num</th>\n",
       "      <th>Edges Num</th>\n",
       "      <th>Free Nodes Num</th>\n",
       "      <th>Average Weight</th>\n",
       "    </tr>\n",
       "  </thead>\n",
       "  <tbody>\n",
       "    <tr>\n",
       "      <th>0</th>\n",
       "      <td>XGBoosting</td>\n",
       "      <td>70</td>\n",
       "      <td>146</td>\n",
       "      <td>3</td>\n",
       "      <td>0.224575</td>\n",
       "    </tr>\n",
       "    <tr>\n",
       "      <th>1</th>\n",
       "      <td>GradientBoosting</td>\n",
       "      <td>70</td>\n",
       "      <td>172</td>\n",
       "      <td>0</td>\n",
       "      <td>0.284003</td>\n",
       "    </tr>\n",
       "  </tbody>\n",
       "</table>\n",
       "</div>"
      ],
      "text/plain": [
       "             Method  Nodes Num  Edges Num  Free Nodes Num  Average Weight\n",
       "0        XGBoosting         70        146               3        0.224575\n",
       "1  GradientBoosting         70        172               0        0.284003"
      ]
     },
     "metadata": {},
     "output_type": "display_data"
    }
   ],
   "source": [
    "a.compare_methods()"
   ]
  },
  {
   "cell_type": "code",
   "execution_count": 8,
   "metadata": {},
   "outputs": [
    {
     "data": {
      "text/html": [
       "<div>\n",
       "<style scoped>\n",
       "    .dataframe tbody tr th:only-of-type {\n",
       "        vertical-align: middle;\n",
       "    }\n",
       "\n",
       "    .dataframe tbody tr th {\n",
       "        vertical-align: top;\n",
       "    }\n",
       "\n",
       "    .dataframe thead th {\n",
       "        text-align: right;\n",
       "    }\n",
       "</style>\n",
       "<table border=\"1\" class=\"dataframe\">\n",
       "  <thead>\n",
       "    <tr style=\"text-align: right;\">\n",
       "      <th></th>\n",
       "      <th>source</th>\n",
       "      <th>target</th>\n",
       "      <th>value</th>\n",
       "    </tr>\n",
       "  </thead>\n",
       "  <tbody>\n",
       "    <tr>\n",
       "      <th>0</th>\n",
       "      <td>NPWD2372</td>\n",
       "      <td>NPWD2491</td>\n",
       "      <td>0.555337</td>\n",
       "    </tr>\n",
       "    <tr>\n",
       "      <th>1</th>\n",
       "      <td>NPWD2372</td>\n",
       "      <td>NPWD2742</td>\n",
       "      <td>0.198113</td>\n",
       "    </tr>\n",
       "    <tr>\n",
       "      <th>2</th>\n",
       "      <td>NPWD2372</td>\n",
       "      <td>NPWD2791</td>\n",
       "      <td>0.615005</td>\n",
       "    </tr>\n",
       "    <tr>\n",
       "      <th>3</th>\n",
       "      <td>NPWD2372</td>\n",
       "      <td>PSF</td>\n",
       "      <td>0.364652</td>\n",
       "    </tr>\n",
       "    <tr>\n",
       "      <th>4</th>\n",
       "      <td>NPWD2491</td>\n",
       "      <td>NPWD2372</td>\n",
       "      <td>0.602142</td>\n",
       "    </tr>\n",
       "    <tr>\n",
       "      <th>5</th>\n",
       "      <td>PSF</td>\n",
       "      <td>NPWD2372</td>\n",
       "      <td>0.140865</td>\n",
       "    </tr>\n",
       "  </tbody>\n",
       "</table>\n",
       "</div>"
      ],
      "text/plain": [
       "     source    target     value\n",
       "0  NPWD2372  NPWD2491  0.555337\n",
       "1  NPWD2372  NPWD2742  0.198113\n",
       "2  NPWD2372  NPWD2791  0.615005\n",
       "3  NPWD2372       PSF  0.364652\n",
       "4  NPWD2491  NPWD2372  0.602142\n",
       "5       PSF  NPWD2372  0.140865"
      ]
     },
     "metadata": {},
     "output_type": "display_data"
    }
   ],
   "source": [
    "# Como podemos ver nos interesa quedarnos con GradientBoosting\n",
    "# Vamos a estrechar el cerco alrededor del nodo NPWD2372, eliminando todas las aristas que no tengan nada que ver con él.\n",
    "\n",
    "df = a.df_GradientBoosting\n",
    "\n",
    "edges_to_remove = [(row[\"source\"], row[\"target\"]) for i, row in df.iterrows() if row[\"source\"] != \"NPWD2372\" and row[\"target\"] != \"NPWD2372\"]\n",
    "\n",
    "a.remove_edges_from_GradientBoosting_graph(edges=edges_to_remove)\n",
    "\n",
    "a.GradientBoosting_graph_to_dataframe()"
   ]
  },
  {
   "cell_type": "code",
   "execution_count": 9,
   "metadata": {},
   "outputs": [
    {
     "name": "stdout",
     "output_type": "stream",
     "text": [
      "Run 'polaris viz C:/Users/manni/Desktop/VIU/TFM/repo/Improve-MBSE-ML/src/workspaces/polaris/project_mod/polaris_mars_express_graphs/polaris_graph_GradientBoosting.json' in your Python command prompt.\n",
      "Visit http://localhost:8080 in your browser to see the graph.\n"
     ]
    }
   ],
   "source": [
    "\n",
    "a.visualize_GradientBoosting_graph()"
   ]
  },
  {
   "cell_type": "markdown",
   "metadata": {},
   "source": [
    "![](removed_edges_graph.png)"
   ]
  }
 ],
 "metadata": {
  "colab": {
   "collapsed_sections": [],
   "name": "TFM.ipynb",
   "provenance": []
  },
  "kernelspec": {
   "display_name": "Python 3",
   "language": "python",
   "name": "python3"
  },
  "language_info": {
   "codemirror_mode": {
    "name": "ipython",
    "version": 3
   },
   "file_extension": ".py",
   "mimetype": "text/x-python",
   "name": "python",
   "nbconvert_exporter": "python",
   "pygments_lexer": "ipython3",
   "version": "3.9.2"
  },
  "metadata": {
   "interpreter": {
    "hash": "de072921dc87486613898b1ef56959cc98c50a630fb49de1898fb32d92a683cf"
   }
  }
 },
 "nbformat": 4,
 "nbformat_minor": 4
}
